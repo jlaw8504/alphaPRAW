{
 "cells": [
  {
   "cell_type": "code",
   "execution_count": 1,
   "metadata": {},
   "outputs": [],
   "source": [
    "import pyBach\n",
    "import pandas as pd\n",
    "import seaborn as sns"
   ]
  },
  {
   "cell_type": "markdown",
   "metadata": {},
   "source": [
    "<H1>Scraping Bachelor(ette) Episode and Reddit Data</H1>\n",
    "pyBach is a collection of functions that allows for scraping of bachelor and bachelorette data from Wikipedia and Reddit\n",
    "<ol>\n",
    "    <li>First scrape last 5 season of The Bachelor and The Bachelorette into a pandas dataframe</li>\n",
    "    <li>Join all individual dataframes into one large dataframe</li>"
   ]
  },
  {
   "cell_type": "code",
   "execution_count": 2,
   "metadata": {},
   "outputs": [],
   "source": [
    "dfList = []\n",
    "for y in range(19, 24):\n",
    "    dfList.append(pyBach.scrapeWikiEpiTable(y))\n",
    "\n",
    "for x in range(10,15):\n",
    "    dfList.append(pyBach.scrapeWikiEpiTable(x, show='bachelorette'))\n",
    "\n",
    "df = pd.concat(dfList)"
   ]
  },
  {
   "cell_type": "markdown",
   "metadata": {},
   "source": [
    "The dataframe contains the following columns:"
   ]
  },
  {
   "cell_type": "code",
   "execution_count": 3,
   "metadata": {},
   "outputs": [
    {
     "name": "stdout",
     "output_type": "stream",
     "text": [
      "['no.overall' 'no. inseason' 'title' 'original air date'\n",
      " 'u.s. viewers(millions)' 'description' 'posix time' 'show' 'season']\n"
     ]
    }
   ],
   "source": [
    "print(df.columns.values)"
   ]
  },
  {
   "cell_type": "markdown",
   "metadata": {},
   "source": [
    "<H1>Bachelor and Bachelorette Views Over Time</H1>"
   ]
  },
  {
   "cell_type": "code",
   "execution_count": 5,
   "metadata": {},
   "outputs": [
    {
     "data": {
      "text/plain": [
       "[]"
      ]
     },
     "execution_count": 5,
     "metadata": {},
     "output_type": "execute_result"
    },
    {
     "data": {
      "image/png": "[encoded data removed]",
      "text/plain": [
       "<Figure size 432x288 with 1 Axes>"
      ]
     },
     "metadata": {},
     "output_type": "display_data"
    }
   ],
   "source": [
    "dfBachelor = df[df['show'] == 'bachelor']\n",
    "axBachelor = sns.barplot(x=dfBachelor['no.overall'], y=dfBachelor['u.s. viewers(millions)'])\n",
    "axBachelor.set_title('The Bachelor')\n",
    "axBachelor.set_xticklabels([])"
   ]
  },
  {
   "cell_type": "code",
   "execution_count": 6,
   "metadata": {},
   "outputs": [
    {
     "data": {
      "text/plain": [
       "[]"
      ]
     },
     "execution_count": 6,
     "metadata": {},
     "output_type": "execute_result"
    },
    {
     "data": {
      "image/png": "[encoded data removed]",
      "text/plain": [
       "<Figure size 432x288 with 1 Axes>"
      ]
     },
     "metadata": {},
     "output_type": "display_data"
    }
   ],
   "source": [
    "dfBachelorette = df[df['show'] == 'bachelorette']\n",
    "axBachelorette = sns.barplot(x=dfBachelorette['no.overall'], y=dfBachelorette['u.s. viewers(millions)'])\n",
    "axBachelorette.set_title('The Bachelorette')\n",
    "axBachelorette.set_ylim(0,10)\n",
    "axBachelorette.set_xticklabels([])"
   ]
  },
  {
   "cell_type": "markdown",
   "metadata": {},
   "source": [
    "There seems to be some periodicity to the viewing pattern. Lets breakdown the individual seasons..."
   ]
  },
  {
   "cell_type": "code",
   "execution_count": null,
   "metadata": {},
   "outputs": [],
   "source": []
  }
 ],
 "metadata": {
  "kernelspec": {
   "display_name": "Python 3",
   "language": "python",
   "name": "python3"
  },
  "language_info": {
   "codemirror_mode": {
    "name": "ipython",
    "version": 3
   },
   "file_extension": ".py",
   "mimetype": "text/x-python",
   "name": "python",
   "nbconvert_exporter": "python",
   "pygments_lexer": "ipython3",
   "version": "3.6.5"
  }
 },
 "nbformat": 4,
 "nbformat_minor": 2
}
