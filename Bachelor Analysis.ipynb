{
 "cells": [
  {
   "cell_type": "code",
   "execution_count": 1,
   "metadata": {},
   "outputs": [],
   "source": [
    "import pyBach\n",
    "import pandas as pd\n",
    "import seaborn as sns\n",
    "import matplotlib.pyplot as plt"
   ]
  },
  {
   "cell_type": "markdown",
   "metadata": {},
   "source": [
    "<H1>Scraping Bachelor(ette) Episode and Reddit Data</H1>\n",
    "pyBach is a collection of functions that allows for scraping of bachelor and bachelorette data from Wikipedia and Reddit\n",
    "<ol>\n",
    "    <li>First scrape last 5 season of The Bachelor and The Bachelorette into a pandas dataframe</li>\n",
    "    <li>Join all individual dataframes into one large dataframe</li>"
   ]
  },
  {
   "cell_type": "code",
   "execution_count": 2,
   "metadata": {},
   "outputs": [],
   "source": [
    "dfList = []\n",
    "bachSeasons = range(19,24)\n",
    "etteSeasons = range(10,15)\n",
    "\n",
    "for bachSeason in bachSeasons:\n",
    "    dfList.append(pyBach.scrapeWikiEpiTable(bachSeason))\n",
    "\n",
    "for etteSeason in etteSeasons:\n",
    "    dfList.append(pyBach.scrapeWikiEpiTable(etteSeason, show='bachelorette'))\n",
    "\n",
    "df = pd.concat(dfList)"
   ]
  },
  {
   "cell_type": "markdown",
   "metadata": {},
   "source": [
    "The dataframe contains the following columns:"
   ]
  },
  {
   "cell_type": "code",
   "execution_count": 3,
   "metadata": {},
   "outputs": [
    {
     "name": "stdout",
     "output_type": "stream",
     "text": [
      "['numOverall' 'numInSeason' 'year' 'month' 'day' 'posix time' 'isBachelor'\n",
      " 'season' 'viewers(millions)']\n"
     ]
    }
   ],
   "source": [
    "print(df.columns.values)"
   ]
  },
  {
   "cell_type": "code",
   "execution_count": 4,
   "metadata": {},
   "outputs": [],
   "source": [
    "df = pyBach.appendStartTime(df) #default value is 6 days prior to episode airdate\n",
    "df = pyBach.appendEndTime(df) #default value 0 days"
   ]
  },
  {
   "cell_type": "code",
   "execution_count": 5,
   "metadata": {},
   "outputs": [
    {
     "data": {
      "text/html": [
       "<div>\n",
       "<style scoped>\n",
       "    .dataframe tbody tr th:only-of-type {\n",
       "        vertical-align: middle;\n",
       "    }\n",
       "\n",
       "    .dataframe tbody tr th {\n",
       "        vertical-align: top;\n",
       "    }\n",
       "\n",
       "    .dataframe thead th {\n",
       "        text-align: right;\n",
       "    }\n",
       "</style>\n",
       "<table border=\"1\" class=\"dataframe\">\n",
       "  <thead>\n",
       "    <tr style=\"text-align: right;\">\n",
       "      <th></th>\n",
       "      <th>numOverall</th>\n",
       "      <th>numInSeason</th>\n",
       "      <th>year</th>\n",
       "      <th>month</th>\n",
       "      <th>day</th>\n",
       "      <th>posix time</th>\n",
       "      <th>isBachelor</th>\n",
       "      <th>season</th>\n",
       "      <th>viewers(millions)</th>\n",
       "      <th>startEpoch</th>\n",
       "      <th>endEpoch</th>\n",
       "    </tr>\n",
       "  </thead>\n",
       "  <tbody>\n",
       "    <tr>\n",
       "      <th>0</th>\n",
       "      <td>182.0</td>\n",
       "      <td>1.0</td>\n",
       "      <td>2015</td>\n",
       "      <td>1</td>\n",
       "      <td>5</td>\n",
       "      <td>1420434000</td>\n",
       "      <td>1.0</td>\n",
       "      <td>19</td>\n",
       "      <td>7.76</td>\n",
       "      <td>1419933600</td>\n",
       "      <td>1420452000</td>\n",
       "    </tr>\n",
       "    <tr>\n",
       "      <th>1</th>\n",
       "      <td>183.0</td>\n",
       "      <td>2.0</td>\n",
       "      <td>2015</td>\n",
       "      <td>1</td>\n",
       "      <td>12</td>\n",
       "      <td>1421038800</td>\n",
       "      <td>1.0</td>\n",
       "      <td>19</td>\n",
       "      <td>6.48</td>\n",
       "      <td>1420538400</td>\n",
       "      <td>1421056800</td>\n",
       "    </tr>\n",
       "    <tr>\n",
       "      <th>2</th>\n",
       "      <td>184.0</td>\n",
       "      <td>3.0</td>\n",
       "      <td>2015</td>\n",
       "      <td>1</td>\n",
       "      <td>19</td>\n",
       "      <td>1421643600</td>\n",
       "      <td>1.0</td>\n",
       "      <td>19</td>\n",
       "      <td>7.61</td>\n",
       "      <td>1421143200</td>\n",
       "      <td>1421661600</td>\n",
       "    </tr>\n",
       "    <tr>\n",
       "      <th>3</th>\n",
       "      <td>185.0</td>\n",
       "      <td>4.0</td>\n",
       "      <td>2015</td>\n",
       "      <td>1</td>\n",
       "      <td>26</td>\n",
       "      <td>1422248400</td>\n",
       "      <td>1.0</td>\n",
       "      <td>19</td>\n",
       "      <td>7.95</td>\n",
       "      <td>1421748000</td>\n",
       "      <td>1422266400</td>\n",
       "    </tr>\n",
       "    <tr>\n",
       "      <th>4</th>\n",
       "      <td>186.0</td>\n",
       "      <td>5.0</td>\n",
       "      <td>2015</td>\n",
       "      <td>2</td>\n",
       "      <td>2</td>\n",
       "      <td>1422853200</td>\n",
       "      <td>1.0</td>\n",
       "      <td>19</td>\n",
       "      <td>8.45</td>\n",
       "      <td>1422352800</td>\n",
       "      <td>1422871200</td>\n",
       "    </tr>\n",
       "  </tbody>\n",
       "</table>\n",
       "</div>"
      ],
      "text/plain": [
       "   numOverall  numInSeason  year  month  day  posix time  isBachelor  season  \\\n",
       "0       182.0          1.0  2015      1    5  1420434000         1.0      19   \n",
       "1       183.0          2.0  2015      1   12  1421038800         1.0      19   \n",
       "2       184.0          3.0  2015      1   19  1421643600         1.0      19   \n",
       "3       185.0          4.0  2015      1   26  1422248400         1.0      19   \n",
       "4       186.0          5.0  2015      2    2  1422853200         1.0      19   \n",
       "\n",
       "   viewers(millions)  startEpoch    endEpoch  \n",
       "0               7.76  1419933600  1420452000  \n",
       "1               6.48  1420538400  1421056800  \n",
       "2               7.61  1421143200  1421661600  \n",
       "3               7.95  1421748000  1422266400  \n",
       "4               8.45  1422352800  1422871200  "
      ]
     },
     "execution_count": 5,
     "metadata": {},
     "output_type": "execute_result"
    }
   ],
   "source": [
    "df.head()"
   ]
  },
  {
   "cell_type": "markdown",
   "metadata": {},
   "source": [
    "<H1>Bachelor and Bachelorette Views per Season</H1>\n",
    "Since the goal of this analysis is to predict if a show will have high ratings based on the previous weeks Reddit posts, we first need to determine if we need to correct for any overall trends.\n",
    "\n",
    "Since the after the final rose and (wo)men tell all are a different format, lets filter them out of our dataframe"
   ]
  },
  {
   "cell_type": "code",
   "execution_count": 6,
   "metadata": {},
   "outputs": [
    {
     "ename": "AttributeError",
     "evalue": "module 'pyBach' has no attribute 'filterData'",
     "output_type": "error",
     "traceback": [
      "\u001b[1;31m---------------------------------------------------------------------------\u001b[0m",
      "\u001b[1;31mAttributeError\u001b[0m                            Traceback (most recent call last)",
      "\u001b[1;32m<ipython-input-6-111afd8751d3>\u001b[0m in \u001b[0;36m<module>\u001b[1;34m()\u001b[0m\n\u001b[1;32m----> 1\u001b[1;33m \u001b[0mdf\u001b[0m \u001b[1;33m=\u001b[0m \u001b[0mpyBach\u001b[0m\u001b[1;33m.\u001b[0m\u001b[0mfilterData\u001b[0m\u001b[1;33m(\u001b[0m\u001b[0mdf\u001b[0m\u001b[1;33m)\u001b[0m\u001b[1;33m\u001b[0m\u001b[0m\n\u001b[0m",
      "\u001b[1;31mAttributeError\u001b[0m: module 'pyBach' has no attribute 'filterData'"
     ]
    }
   ],
   "source": [
    "df = pyBach.filterData(df)"
   ]
  },
  {
   "cell_type": "code",
   "execution_count": null,
   "metadata": {},
   "outputs": [],
   "source": [
    "fig, (ax1, ax2) = plt.subplots(ncols=2, sharey=True)\n",
    "fig.set_figwidth(20)\n",
    "dfBach = df[df['show'] == 'bachelor']\n",
    "dfEtte = df[df['show'] == 'bachelorette']\n",
    "sns.barplot(x=dfBach['season'], y=dfBach['u.s. viewers(millions)'], ax=ax1, ci=95)\n",
    "sns.barplot(x=dfEtte['season'], y=dfEtte['u.s. viewers(millions)'], ax=ax2, ci=95)\n",
    "ax1.set_title('The Bachelor')\n",
    "ax2.set_title('The Bachelorette')\n",
    "\n",
    "sns.set(style='whitegrid')\n"
   ]
  },
  {
   "cell_type": "code",
   "execution_count": null,
   "metadata": {},
   "outputs": [],
   "source": [
    "#Run a one-way anova on views to be sure\n",
    "import scipy.stats as stats\n",
    "\n",
    "f, p = stats.f_oneway(*[dfBach.loc[dfBach.season == x, 'u.s. viewers(millions)'] for x in range(19,24)])\n",
    "print('The Bachelor Season''s one-way ANOVA P-value is:' + str(p) + '\\n')\n",
    "f, p = stats.f_oneway(*[dfEtte.loc[dfEtte.season == x, 'u.s. viewers(millions)'] for x in range(10,15)])\n",
    "print('The Bachelorette Season''s one-way ANOVA P-Value is:' + str(p) + '\\n')"
   ]
  },
  {
   "cell_type": "code",
   "execution_count": null,
   "metadata": {},
   "outputs": [],
   "source": [
    "fig, axes = plt.subplots(ncols=5, sharey=True)\n",
    "fig.set_figwidth(15)\n",
    "fig.suptitle(\"The Bachelor\", fontsize=16)\n",
    "idx = 0\n",
    "for subAx in axes:\n",
    "    sns.barplot(x=dfBach.loc[dfBach.season == bachSeasons[idx], 'no. inseason'], y=dfBach.loc[dfBach.season == bachSeasons[idx], 'u.s. viewers(millions)'], ax=subAx)\n",
    "    idx = idx + 1\n",
    "    "
   ]
  },
  {
   "cell_type": "code",
   "execution_count": null,
   "metadata": {},
   "outputs": [],
   "source": [
    "fig, axes = plt.subplots(ncols=5, sharey=True)\n",
    "fig.set_figwidth(15)\n",
    "fig.suptitle(\"The Bachelorette\", fontsize=16)\n",
    "idx = 0\n",
    "for subAx in axes:\n",
    "    sns.barplot(x=dfEtte.loc[dfEtte.season == etteSeasons[idx], 'no. inseason'], y=dfEtte.loc[dfEtte.season == etteSeasons[idx], 'u.s. viewers(millions)'], ax=subAx)\n",
    "    idx = idx + 1"
   ]
  },
  {
   "cell_type": "markdown",
   "metadata": {},
   "source": [
    "To maximize the possibility of detecting a difference in social media buzz, I am going to limit my initial analysis to only the worse performing and best performing episodes of each season."
   ]
  },
  {
   "cell_type": "code",
   "execution_count": null,
   "metadata": {},
   "outputs": [],
   "source": [
    "# normalize each episode's viewer number by the season finale\n",
    "df.loc[:, 'norm views'] = pd.Series([0]*df.shape[0])\n",
    "for showStr in ['bachelor', 'bachelorette']:\n",
    "    if showStr == 'bachelor':\n",
    "        for season in bachSeasons:\n",
    "            df.loc[\n",
    "                (df.season==season) & (df.show==showStr),'norm views'] = df.loc[(df.season==season) & (df.show==showStr), 'u.s. viewers(millions)']\\\n",
    "                /df.loc[(df.season==season) & (df.show==showStr), 'u.s. viewers(millions)'].max()\n",
    "    else:\n",
    "        for season in etteSeasons:\n",
    "            df.loc[\n",
    "                (df.season==season) & (df.show==showStr), 'norm views'] = df.loc[(df.season==season) & (df.show==showStr), 'u.s. viewers(millions)']\\\n",
    "            /df.loc[(df.season==season) & (df.show==showStr), 'u.s. viewers(millions)'].max()"
   ]
  },
  {
   "cell_type": "code",
   "execution_count": null,
   "metadata": {},
   "outputs": [],
   "source": [
    "# Remove all the season finales whose norm views are one\n",
    "dfFinless = df.loc[~(df['norm views']==1),:]"
   ]
  },
  {
   "cell_type": "code",
   "execution_count": null,
   "metadata": {},
   "outputs": [],
   "source": [
    "# pull out the largest norm views for each season of each show\n",
    "minList = []\n",
    "maxList = []\n",
    "for showStr in ['bachelor', 'bachelorette']:\n",
    "    if showStr == 'bachelor':\n",
    "        for season in bachSeasons:\n",
    "            minValue = dfFinless.loc[(dfFinless.season == season) & (dfFinless.show==showStr), 'norm views'].min()\n",
    "            tempMin = dfFinless.loc[(dfFinless.season==season) & (dfFinless.show==showStr) & (dfFinless['norm views']==minValue),:]\n",
    "            # we only want ONE min, so if more than one row is found, take the earlier episode\n",
    "            if tempMin.shape[0] == 1:\n",
    "                minList.append((tempMin))\n",
    "            else:\n",
    "                minList.append((tempMin.loc[tempMax['no. inseason']==tempMin['no. inseason'].min(),:]))\n",
    "            maxValue = dfFinless.loc[(dfFinless.season == season) & (dfFinless.show==showStr), 'norm views'].max()\n",
    "            tempMax = dfFinless.loc[(dfFinless.season==season) & (dfFinless.show==showStr) & (dfFinless['norm views']==maxValue), :]\n",
    "            if tempMax.shape[0] == 1:\n",
    "                maxList.append((tempMax))\n",
    "            else:\n",
    "                maxList.append((tempMax.loc[tempMax['no. inseason']==tempMax['no. inseason'].min(),:]))\n",
    "    else:\n",
    "        for season in etteSeasons:\n",
    "            minValue = dfFinless.loc[(dfFinless.season == season) & (dfFinless.show==showStr), 'norm views'].min()\n",
    "            tempMin = dfFinless.loc[(dfFinless.season==season) & (dfFinless.show==showStr) & (dfFinless['norm views']==minValue),:]\n",
    "            if tempMin.shape[0] == 1:\n",
    "                minList.append((tempMin))\n",
    "            else:\n",
    "                minList.append((tempMin.loc[tempMax['no. inseason']==tempMin['no. inseason'].min(),:]))\n",
    "            maxValue = dfFinless.loc[(dfFinless.season == season) & (dfFinless.show==showStr), 'norm views'].max()\n",
    "            tempMax = dfFinless.loc[(dfFinless.season==season) & (dfFinless.show==showStr) & (dfFinless['norm views']==maxValue), :]\n",
    "            if tempMax.shape[0] == 1:\n",
    "                maxList.append((tempMax))\n",
    "            else:\n",
    "                maxList.append((tempMax.loc[tempMax['no. inseason']==tempMax['no. inseason'].min(),:]))"
   ]
  },
  {
   "cell_type": "code",
   "execution_count": null,
   "metadata": {},
   "outputs": [],
   "source": [
    "# concat lists into one dataframe\n",
    "dfMin = pd.concat(minList)\n",
    "dfMax = pd.concat(maxList)"
   ]
  },
  {
   "cell_type": "code",
   "execution_count": null,
   "metadata": {},
   "outputs": [],
   "source": [
    "dfMax"
   ]
  },
  {
   "cell_type": "code",
   "execution_count": null,
   "metadata": {},
   "outputs": [],
   "source": [
    "dfMin"
   ]
  },
  {
   "cell_type": "code",
   "execution_count": null,
   "metadata": {},
   "outputs": [],
   "source": [
    "# collect reddit submission list for min and max dfs\n",
    "subListsMax = []\n",
    "subListsMin = []\n",
    "for idx, row in dfMax.iterrows():\n",
    "    subListsMax.append(pyBach.getRedditSubsList(row['startEpoch'], row['endEpoch'])) #use my default PRAW User Agent\n",
    "dfMax['subList'] = subListsMax\n",
    "for idx, row in dfMin.iterrows():\n",
    "    subListsMin.append(pyBach.getRedditSubsList(row['startEpoch'], row['endEpoch']))\n",
    "dfMin['subList'] = subListsMin"
   ]
  },
  {
   "cell_type": "code",
   "execution_count": null,
   "metadata": {},
   "outputs": [],
   "source": [
    "dfMax.head()"
   ]
  },
  {
   "cell_type": "code",
   "execution_count": null,
   "metadata": {},
   "outputs": [],
   "source": [
    "dfMin.head()"
   ]
  },
  {
   "cell_type": "code",
   "execution_count": null,
   "metadata": {},
   "outputs": [],
   "source": [
    "import pickle as pk"
   ]
  },
  {
   "cell_type": "code",
   "execution_count": null,
   "metadata": {},
   "outputs": [],
   "source": [
    "dfMin.to_pickle('dfMin.pickle')\n",
    "dfMax.to_pickle('dfMax.pickle')"
   ]
  },
  {
   "cell_type": "code",
   "execution_count": null,
   "metadata": {},
   "outputs": [],
   "source": [
    "print(subListsMin[0])"
   ]
  },
  {
   "cell_type": "code",
   "execution_count": null,
   "metadata": {},
   "outputs": [],
   "source": []
  }
 ],
 "metadata": {
  "kernelspec": {
   "display_name": "Python 3",
   "language": "python",
   "name": "python3"
  },
  "language_info": {
   "codemirror_mode": {
    "name": "ipython",
    "version": 3
   },
   "file_extension": ".py",
   "mimetype": "text/x-python",
   "name": "python",
   "nbconvert_exporter": "python",
   "pygments_lexer": "ipython3",
   "version": "3.6.5"
  }
 },
 "nbformat": 4,
 "nbformat_minor": 2
}
