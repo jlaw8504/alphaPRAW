{
 "cells": [
  {
   "cell_type": "markdown",
   "metadata": {},
   "source": [
    "<H1>Scraping Bachelor Wikipedia Episode Tables and Reddit Data for Viewer Prediction</H1>\n",
    "pyBach is a collection of functions that allows for scraping of bachelor and bachelorette data from Wikipedia and Reddit"
   ]
  },
  {
   "cell_type": "code",
   "execution_count": null,
   "metadata": {},
   "outputs": [],
   "source": [
    "#Using https://www.tensorflow.org/tutorials/keras/basic_regression as template NN-regression analysis\n",
    "import pyBach #my module\n",
    "import pandas as pd\n",
    "import seaborn as sns\n",
    "import matplotlib.pyplot as plt"
   ]
  },
  {
   "cell_type": "markdown",
   "metadata": {},
   "source": [
    "<ul>\n",
    "<li>First scrape last 5 season of The Bachelor and The Bachelorette into a pandas dataframe</li>\n",
    "    <li>Join all individual dataframes into one large dataframe</li>\n",
    "    <li>Reset the dataframe index</li>"
   ]
  },
  {
   "cell_type": "code",
   "execution_count": null,
   "metadata": {},
   "outputs": [],
   "source": [
    "dfList = []\n",
    "bachSeasons = range(19,24)\n",
    "etteSeasons = range(10,15)\n",
    "\n",
    "for bachSeason in bachSeasons:\n",
    "    dfList.append(pyBach.scrapeWikiEpiTable(bachSeason))\n",
    "for etteSeason in etteSeasons:\n",
    "    dfList.append(pyBach.scrapeWikiEpiTable(etteSeason, show='bachelorette'))\n",
    "\n",
    "df = pd.concat(dfList)\n",
    "df.reset_index(drop=True, inplace=True)"
   ]
  },
  {
   "cell_type": "code",
   "execution_count": null,
   "metadata": {},
   "outputs": [],
   "source": [
    "sns.pairplot(df[['isBachelor', 'numOverall', 'numInSeason', 'season', 'year', 'viewers(millions)']], diag_kind=\"kde\")"
   ]
  },
  {
   "cell_type": "markdown",
   "metadata": {},
   "source": [
    "## Scrape all submission titles and all comments from the week leading up to the episode\n",
    "This part of the module performs two tasks\n",
    "<ol>\n",
    "    <li>Counts the total number of submisisons(AKA posts) and total number of comments in the 'TheBachelor' subreddit the week before the episode airs</li>\n",
    "        <li>Performs VADER (Valence Aware Dictionary and sEntiment Reasoner) analysis on each submission title and comment text. The individual text gets a single compound score, with -1 being most negative, and 1 being most positive.</li>"
   ]
  },
  {
   "cell_type": "code",
   "execution_count": null,
   "metadata": {},
   "outputs": [],
   "source": [
    "#dfTotal = pyBach.appendRedditStats(df)\n",
    "dfTotal = pd.read_pickle('dfTotal.pickle')\n",
    "dfTotal.reset_index(drop=True, inplace=True)\n",
    "dfTotal"
   ]
  },
  {
   "cell_type": "code",
   "execution_count": null,
   "metadata": {
    "scrolled": true
   },
   "outputs": [],
   "source": [
    "sns.pairplot(dfTotal[['isBachelor', 'numOverall', 'numInSeason', \n",
    "                     'season', 'year', 'subNum', 'commentNum', 'viewers(millions)']], diag_kind=\"kde\")"
   ]
  },
  {
   "cell_type": "code",
   "execution_count": null,
   "metadata": {
    "scrolled": false
   },
   "outputs": [],
   "source": [
    "sns.pairplot(dfTotal[['year', 'subNum', 'commentNum', \n",
    "                     'meanTitleSentiment', 'stdTitleSentiment', \n",
    "                     'meanCommentSentiment', 'stdCommentSentiment','viewers(millions)']], diag_kind=\"kde\")"
   ]
  },
  {
   "cell_type": "markdown",
   "metadata": {},
   "source": [
    "# Examine performance of multilayer Perceptron using Episode data alone, Reddit counts, and Reddit sentiment analysis\n",
    "## Create list of lists of features"
   ]
  },
  {
   "cell_type": "code",
   "execution_count": null,
   "metadata": {
    "scrolled": true
   },
   "outputs": [],
   "source": [
    "#establish feature subsets\n",
    "featureLists = []\n",
    "featureLists.append(['isBachelor', 'viewers(millions)'])\n",
    "featureLists.append(['isBachelor', 'numOverall', 'numInSeason', \n",
    "                     'season', 'year', 'viewers(millions)'])\n",
    "featureLists.append(['isBachelor', 'numOverall', 'numInSeason', \n",
    "                     'season', 'year', 'subNum', 'commentNum', 'viewers(millions)'])\n",
    "featureLists.append(['isBachelor', 'numOverall', 'numInSeason', \n",
    "                     'season', 'year', 'subNum', 'commentNum', \n",
    "                     'meanTitleSentiment', 'stdTitleSentiment', \n",
    "                     'meanCommentSentiment', 'stdCommentSentiment','viewers(millions)'])\n",
    "featureLists.append(dfTotal.columns)\n",
    "print(dfTotal.columns)"
   ]
  },
  {
   "cell_type": "markdown",
   "metadata": {},
   "source": [
    "## Split the total date into train, test, and cross-validation sets\n",
    "60% in train, 20% in test, and 20% in cross-validation sets"
   ]
  },
  {
   "cell_type": "code",
   "execution_count": null,
   "metadata": {},
   "outputs": [],
   "source": [
    "dfTrainAll, dfTestAll, dfCVAll = pyBach.splitDfs(dfTotal, rsInt=0)"
   ]
  },
  {
   "cell_type": "code",
   "execution_count": null,
   "metadata": {},
   "outputs": [],
   "source": [
    "#Instantiate lists to keep trained models and scalers for normalizing data\n",
    "testLosses = []\n",
    "cvLosses = []\n",
    "models = [];\n",
    "scalers = [];\n",
    "#Train the models on subsets of features\n",
    "for features in featureLists:\n",
    "    dfTrain = dfTrainAll[features]\n",
    "    dfCV = dfCVAll[features]\n",
    "    trainLabels = dfTrain['viewers(millions)']\n",
    "    scaler, model = pyBach.trainNN(dfTrain)\n",
    "    #collect models\n",
    "    models.append(model)\n",
    "    #collect scalers, probably not necessary...\n",
    "    scalers.append(scaler)\n",
    "    #pop off dfCV labels\n",
    "    cvLabels = dfCV.pop('viewers(millions)')\n",
    "    #normalized dfCV using scaler\n",
    "    trainNorm = scaler.transform(dfTrain)\n",
    "    cvNorm = scaler.transform(dfCV)\n",
    "    testLoss, _, _ = model.evaluate(trainNorm, trainLabels, verbose=0)\n",
    "    cvLoss, _, _ = model.evaluate(cvNorm, cvLabels, verbose=0)\n",
    "    testLosses.append(testLoss)\n",
    "    cvLosses.append(cvLoss)"
   ]
  },
  {
   "cell_type": "code",
   "execution_count": 13,
   "metadata": {
    "scrolled": true
   },
   "outputs": [
    {
     "data": {
      "text/plain": [
       "<matplotlib.axes._subplots.AxesSubplot at 0x18ea6397cf8>"
      ]
     },
     "execution_count": 13,
     "metadata": {},
     "output_type": "execute_result"
    },
    {
     "data": {
      "image/png": "[encoded data removed]",
      "text/plain": [
       "<Figure size 1440x288 with 1 Axes>"
      ]
     },
     "metadata": {},
     "output_type": "display_data"
    }
   ],
   "source": [
    "labelList = ['Show Only', 'Episode Data', 'Reddit Counts', 'Reddit Sentiments', 'All']\n",
    "zippedList = list(zip(testLosses + cvLosses,\n",
    "                      ['Train']*len(testLosses) + ['Validation']*len(cvLosses),\n",
    "                      labelList + labelList))\n",
    "\n",
    "# Create a dataframe from zipped list\n",
    "dfObj = pd.DataFrame(zippedList, columns = ['loss' , 'type', 'label'],) \n",
    "fig, ax = plt.subplots()\n",
    "fig.set_figwidth(20)\n",
    "sns.barplot(x='label', y='loss', hue='type', data=dfObj, ax=ax)\n"
   ]
  }
 ],
 "metadata": {
  "kernelspec": {
   "display_name": "Python 3",
   "language": "python",
   "name": "python3"
  },
  "language_info": {
   "codemirror_mode": {
    "name": "ipython",
    "version": 3
   },
   "file_extension": ".py",
   "mimetype": "text/x-python",
   "name": "python",
   "nbconvert_exporter": "python",
   "pygments_lexer": "ipython3",
   "version": "3.6.5"
  }
 },
 "nbformat": 4,
 "nbformat_minor": 2
}
