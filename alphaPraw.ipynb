{
 "cells": [
  {
   "cell_type": "code",
   "execution_count": 1,
   "metadata": {},
   "outputs": [],
   "source": [
    "import praw\n",
    "import collections\n",
    "import seaborn as sns"
   ]
  },
  {
   "cell_type": "markdown",
   "metadata": {},
   "source": [
    "<H1>List of ABC's The Bachelorette Contestants</H1>"
   ]
  },
  {
   "cell_type": "code",
   "execution_count": 2,
   "metadata": {},
   "outputs": [],
   "source": [
    "menList = [\n",
    "    'brian',\n",
    "    'cam',\n",
    "    'chasen',\n",
    "    'connor j',\n",
    "    'connor s',\n",
    "    'daron',\n",
    "    'devin',\n",
    "    'dustin',\n",
    "    'dylan',\n",
    "    'garret',\n",
    "    'grant',\n",
    "    'hunter',\n",
    "    'jed',\n",
    "    'joe',\n",
    "    'joey',\n",
    "    'john paul jones',\n",
    "    'jpj',\n",
    "    'jonathan',\n",
    "    'kevin',\n",
    "    'luke p',\n",
    "    'luke s',\n",
    "    'matt donald',\n",
    "    'matteo',\n",
    "    'matthew',\n",
    "    'mike',\n",
    "    'peter',\n",
    "    'ryan',\n",
    "    'scott',\n",
    "    'thomas',\n",
    "    'tyler c',\n",
    "    'tyler g',\n",
    "    ];\n",
    "\n",
    "# create list of counter variables\n",
    "cnts = [0]*len(menList)\n",
    "\n",
    "# zip into dictionary\n",
    "menDict = dict(zip(menList, cnts))"
   ]
  },
  {
   "cell_type": "markdown",
   "metadata": {},
   "source": [
    "<H1> Parse TheBachelor Subreddit for Posts </H1>"
   ]
  },
  {
   "cell_type": "code",
   "execution_count": 3,
   "metadata": {},
   "outputs": [],
   "source": [
    "reddit = praw.Reddit(client_id='', client_secret='', user_agent='')"
   ]
  },
  {
   "cell_type": "code",
   "execution_count": 4,
   "metadata": {},
   "outputs": [],
   "source": [
    "# get hottest posts from all subreddits\n",
    "hot_posts = reddit.subreddit('TheBachelor').hot(limit=1000)\n",
    "# loop over all men's names in the title of all posts\n",
    "for post in hot_posts:\n",
    "    for man, cnt in menDict.items():\n",
    "        if man in post.title.lower():\n",
    "            menDict[man] = menDict[man] + 1\n",
    "    "
   ]
  },
  {
   "cell_type": "code",
   "execution_count": 5,
   "metadata": {},
   "outputs": [],
   "source": [
    "# Correct for John Paul Jones nickname\n",
    "menDict['john paul jones'] = menDict['john paul jones'] + menDict.pop('jpj', 0)\n",
    "# sort the dictionary\n",
    "sortedMen = sorted(menDict.items(), key=lambda kv: kv[1], reverse=True)\n",
    "sortedDict = collections.OrderedDict(sortedMen)"
   ]
  },
  {
   "cell_type": "code",
   "execution_count": 6,
   "metadata": {},
   "outputs": [
    {
     "data": {
      "image/png": "[encoded data removed]",
      "text/plain": [
       "<Figure size 432x288 with 1 Axes>"
      ]
     },
     "metadata": {
      "needs_background": "light"
     },
     "output_type": "display_data"
    }
   ],
   "source": [
    "ax = sns.barplot(x=list(sortedDict.values()), y=list(sortedDict.keys()))"
   ]
  },
  {
   "cell_type": "code",
   "execution_count": 7,
   "metadata": {},
   "outputs": [
    {
     "data": {
      "text/plain": [
       "dict_items([('brian', 1), ('cam', 32), ('chasen', 0), ('connor j', 1), ('connor s', 6), ('daron', 0), ('devin', 2), ('dustin', 2), ('dylan', 3), ('garret', 9), ('grant', 3), ('hunter', 2), ('jed', 12), ('joe', 7), ('joey', 5), ('john paul jones', 21), ('jonathan', 1), ('kevin', 3), ('luke p', 63), ('luke s', 15), ('matt donald', 1), ('matteo', 3), ('matthew', 0), ('mike', 12), ('peter', 9), ('ryan', 3), ('scott', 0), ('thomas', 0), ('tyler c', 23), ('tyler g', 4)])"
      ]
     },
     "execution_count": 7,
     "metadata": {},
     "output_type": "execute_result"
    }
   ],
   "source": [
    "menDict.items()"
   ]
  },
  {
   "cell_type": "code",
   "execution_count": null,
   "metadata": {},
   "outputs": [],
   "source": []
  }
 ],
 "metadata": {
  "kernelspec": {
   "display_name": "Python 3",
   "language": "python",
   "name": "python3"
  },
  "language_info": {
   "codemirror_mode": {
    "name": "ipython",
    "version": 3
   },
   "file_extension": ".py",
   "mimetype": "text/x-python",
   "name": "python",
   "nbconvert_exporter": "python",
   "pygments_lexer": "ipython3",
   "version": "3.7.3"
  }
 },
 "nbformat": 4,
 "nbformat_minor": 2
}
