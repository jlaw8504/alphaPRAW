{
 "cells": [
  {
   "cell_type": "code",
   "execution_count": 1,
   "metadata": {
    "scrolled": true
   },
   "outputs": [],
   "source": [
    "import praw\n",
    "import collections\n",
    "import seaborn as sns"
   ]
  },
  {
   "cell_type": "markdown",
   "metadata": {},
   "source": [
    "<H1>List of ABC's The Bachelorette Contestants</H1>"
   ]
  },
  {
   "cell_type": "code",
   "execution_count": 2,
   "metadata": {},
   "outputs": [],
   "source": [
    "menList = [\n",
    "    'brian',\n",
    "    'cam',\n",
    "    'chasen',\n",
    "    'connor j',\n",
    "    'connor s',\n",
    "    'daron',\n",
    "    'devin',\n",
    "    'dustin',\n",
    "    'dylan',\n",
    "    'garret',\n",
    "    'grant',\n",
    "    'hunter',\n",
    "    'jed',\n",
    "    'joe',\n",
    "    'joey',\n",
    "    'john paul jones',\n",
    "    'jpj',\n",
    "    'jonathan',\n",
    "    'kevin',\n",
    "    'luke p',\n",
    "    'luke s',\n",
    "    'matt donald',\n",
    "    'matteo',\n",
    "    'matthew',\n",
    "    'mike',\n",
    "    'peter',\n",
    "    'ryan',\n",
    "    'scott',\n",
    "    'thomas',\n",
    "    'tyler c',\n",
    "    'tyler g',\n",
    "    ];\n",
    "\n",
    "# create list of counter variables\n",
    "cnts = [0]*len(menList)\n",
    "\n",
    "# zip into dictionary\n",
    "menDict = dict(zip(menList, cnts))"
   ]
  },
  {
   "cell_type": "markdown",
   "metadata": {},
   "source": [
    "<H1> Parse TheBachelor Subreddit for Posts </H1>"
   ]
  },
  {
   "cell_type": "code",
   "execution_count": 3,
   "metadata": {},
   "outputs": [],
   "source": [
    "reddit = praw.Reddit(client_id='', client_secret='', user_agent='')"
   ]
  },
  {
   "cell_type": "code",
   "execution_count": 4,
   "metadata": {},
   "outputs": [],
   "source": [
    "# get hottest posts from all subreddits\n",
    "hot_posts = reddit.subreddit('TheBachelor').hot(limit=1000)\n",
    "# instantiate our post dictionary\n",
    "postDict = {\n",
    "    \"title\":[],\n",
    "    \"score\":[],\n",
    "    \"id\":[],\n",
    "    \"url\":[], \n",
    "    \"comms_num\": [],\n",
    "    \"created\": [],\n",
    "    \"body\":[]\n",
    "    }\n",
    "# loop over all men's names in the title of all posts\n",
    "for post in hot_posts: #grab data for our csv file\n",
    "    postDict[\"title\"].append(post.title)\n",
    "    postDict[\"score\"].append(post.score)\n",
    "    postDict[\"id\"].append(post.id)\n",
    "    postDict[\"url\"].append(post.url)\n",
    "    postDict[\"comms_num\"].append(post.num_comments)\n",
    "    postDict[\"created\"].append(post.created)\n",
    "    postDict[\"body\"].append(post.selftext)\n",
    "    for man, cnt in menDict.items():\n",
    "        if man in post.title.lower():\n",
    "            menDict[man] = menDict[man] + 1\n",
    "    "
   ]
  },
  {
   "cell_type": "code",
   "execution_count": 5,
   "metadata": {},
   "outputs": [],
   "source": [
    "# Correct for John Paul Jones nickname, Domain knowledge FTW\n",
    "menDict['john paul jones'] = menDict['john paul jones'] + menDict.pop('jpj', 0)\n",
    "# sort the dictionary\n",
    "sortedMen = sorted(menDict.items(), key=lambda kv: kv[1], reverse=True)\n",
    "sortedDict = collections.OrderedDict(sortedMen)"
   ]
  },
  {
   "cell_type": "code",
   "execution_count": 6,
   "metadata": {},
   "outputs": [
    {
     "data": {
      "image/png": "[encoded data removed]",
      "text/plain": [
       "<Figure size 432x288 with 1 Axes>"
      ]
     },
     "metadata": {
      "needs_background": "light"
     },
     "output_type": "display_data"
    }
   ],
   "source": [
    "ax = sns.barplot(x=list(sortedDict.values()), y=list(sortedDict.keys()))"
   ]
  },
  {
   "cell_type": "markdown",
   "metadata": {},
   "source": [
    "<H1> Package the postDict into Pandas dataframe and save to CSV-file </H1>"
   ]
  },
  {
   "cell_type": "code",
   "execution_count": 7,
   "metadata": {},
   "outputs": [],
   "source": [
    "import pandas as pd"
   ]
  },
  {
   "cell_type": "code",
   "execution_count": 8,
   "metadata": {},
   "outputs": [
    {
     "data": {
      "text/html": [
       "<div>\n",
       "<style scoped>\n",
       "    .dataframe tbody tr th:only-of-type {\n",
       "        vertical-align: middle;\n",
       "    }\n",
       "\n",
       "    .dataframe tbody tr th {\n",
       "        vertical-align: top;\n",
       "    }\n",
       "\n",
       "    .dataframe thead th {\n",
       "        text-align: right;\n",
       "    }\n",
       "</style>\n",
       "<table border=\"1\" class=\"dataframe\">\n",
       "  <thead>\n",
       "    <tr style=\"text-align: right;\">\n",
       "      <th></th>\n",
       "      <th>title</th>\n",
       "      <th>score</th>\n",
       "      <th>id</th>\n",
       "      <th>url</th>\n",
       "      <th>comms_num</th>\n",
       "      <th>created</th>\n",
       "      <th>body</th>\n",
       "    </tr>\n",
       "  </thead>\n",
       "  <tbody>\n",
       "    <tr>\n",
       "      <th>0</th>\n",
       "      <td>Megathread Hub - Bachelorette S15E4</td>\n",
       "      <td>34</td>\n",
       "      <td>bwlwh1</td>\n",
       "      <td>https://www.reddit.com/r/thebachelor/comments/...</td>\n",
       "      <td>30</td>\n",
       "      <td>1.559662e+09</td>\n",
       "      <td>**Live Discussion Threads:**\\n\\n[East/Central]...</td>\n",
       "    </tr>\n",
       "    <tr>\n",
       "      <th>1</th>\n",
       "      <td>Off-topic thread June 7-13</td>\n",
       "      <td>16</td>\n",
       "      <td>bxwc6g</td>\n",
       "      <td>https://www.reddit.com/r/thebachelor/comments/...</td>\n",
       "      <td>273</td>\n",
       "      <td>1.559952e+09</td>\n",
       "      <td>This thread is for any and all of our off-topi...</td>\n",
       "    </tr>\n",
       "    <tr>\n",
       "      <th>2</th>\n",
       "      <td>That’s all.</td>\n",
       "      <td>814</td>\n",
       "      <td>byuuaj</td>\n",
       "      <td>https://i.redd.it/pcmb0gq2dh331.jpg</td>\n",
       "      <td>13</td>\n",
       "      <td>1.560180e+09</td>\n",
       "      <td></td>\n",
       "    </tr>\n",
       "    <tr>\n",
       "      <th>3</th>\n",
       "      <td>Guess we will be seeing ______ in paradise 😏😏😏</td>\n",
       "      <td>78</td>\n",
       "      <td>byzj2f</td>\n",
       "      <td>https://i.redd.it/rezipml5xj331.jpg</td>\n",
       "      <td>57</td>\n",
       "      <td>1.560211e+09</td>\n",
       "      <td></td>\n",
       "    </tr>\n",
       "    <tr>\n",
       "      <th>4</th>\n",
       "      <td>Tyler C. is that you?</td>\n",
       "      <td>88</td>\n",
       "      <td>byyjx7</td>\n",
       "      <td>https://i.imgur.com/wtVTZLz.gifv</td>\n",
       "      <td>10</td>\n",
       "      <td>1.560206e+09</td>\n",
       "      <td></td>\n",
       "    </tr>\n",
       "  </tbody>\n",
       "</table>\n",
       "</div>"
      ],
      "text/plain": [
       "                                            title  score      id  \\\n",
       "0             Megathread Hub - Bachelorette S15E4     34  bwlwh1   \n",
       "1                      Off-topic thread June 7-13     16  bxwc6g   \n",
       "2                                     That’s all.    814  byuuaj   \n",
       "3  Guess we will be seeing ______ in paradise 😏😏😏     78  byzj2f   \n",
       "4                           Tyler C. is that you?     88  byyjx7   \n",
       "\n",
       "                                                 url  comms_num       created  \\\n",
       "0  https://www.reddit.com/r/thebachelor/comments/...         30  1.559662e+09   \n",
       "1  https://www.reddit.com/r/thebachelor/comments/...        273  1.559952e+09   \n",
       "2                https://i.redd.it/pcmb0gq2dh331.jpg         13  1.560180e+09   \n",
       "3                https://i.redd.it/rezipml5xj331.jpg         57  1.560211e+09   \n",
       "4                   https://i.imgur.com/wtVTZLz.gifv         10  1.560206e+09   \n",
       "\n",
       "                                                body  \n",
       "0  **Live Discussion Threads:**\\n\\n[East/Central]...  \n",
       "1  This thread is for any and all of our off-topi...  \n",
       "2                                                     \n",
       "3                                                     \n",
       "4                                                     "
      ]
     },
     "execution_count": 8,
     "metadata": {},
     "output_type": "execute_result"
    }
   ],
   "source": [
    "PostData = pd.DataFrame(postDict)\n",
    "PostData.head()"
   ]
  },
  {
   "cell_type": "code",
   "execution_count": 9,
   "metadata": {},
   "outputs": [],
   "source": [
    "import datetime as dt"
   ]
  },
  {
   "cell_type": "code",
   "execution_count": 33,
   "metadata": {},
   "outputs": [],
   "source": [
    "_timestamp = PostData[\"created\"].apply(dt.datetime.fromtimestamp)\n",
    "PostData = PostData.assign(timestamp = _timestamp)\n",
    "now = dt.datetime.now()\n",
    "\n",
    "PostData.to_csv('theBachlorette_' + str(now.day) + '_' + str(now.year) + '.csv', index=False)"
   ]
  },
  {
   "cell_type": "code",
   "execution_count": 32,
   "metadata": {},
   "outputs": [
    {
     "data": {
      "text/html": [
       "<div>\n",
       "<style scoped>\n",
       "    .dataframe tbody tr th:only-of-type {\n",
       "        vertical-align: middle;\n",
       "    }\n",
       "\n",
       "    .dataframe tbody tr th {\n",
       "        vertical-align: top;\n",
       "    }\n",
       "\n",
       "    .dataframe thead th {\n",
       "        text-align: right;\n",
       "    }\n",
       "</style>\n",
       "<table border=\"1\" class=\"dataframe\">\n",
       "  <thead>\n",
       "    <tr style=\"text-align: right;\">\n",
       "      <th></th>\n",
       "      <th>title</th>\n",
       "      <th>score</th>\n",
       "      <th>id</th>\n",
       "      <th>url</th>\n",
       "      <th>comms_num</th>\n",
       "      <th>created</th>\n",
       "      <th>body</th>\n",
       "      <th>timestamp</th>\n",
       "    </tr>\n",
       "  </thead>\n",
       "  <tbody>\n",
       "    <tr>\n",
       "      <th>0</th>\n",
       "      <td>Megathread Hub - Bachelorette S15E4</td>\n",
       "      <td>34</td>\n",
       "      <td>bwlwh1</td>\n",
       "      <td>https://www.reddit.com/r/thebachelor/comments/...</td>\n",
       "      <td>30</td>\n",
       "      <td>1.559662e+09</td>\n",
       "      <td>**Live Discussion Threads:**\\n\\n[East/Central]...</td>\n",
       "      <td>2019-06-04 11:21:45</td>\n",
       "    </tr>\n",
       "    <tr>\n",
       "      <th>1</th>\n",
       "      <td>Off-topic thread June 7-13</td>\n",
       "      <td>16</td>\n",
       "      <td>bxwc6g</td>\n",
       "      <td>https://www.reddit.com/r/thebachelor/comments/...</td>\n",
       "      <td>273</td>\n",
       "      <td>1.559952e+09</td>\n",
       "      <td>This thread is for any and all of our off-topi...</td>\n",
       "      <td>2019-06-07 20:03:27</td>\n",
       "    </tr>\n",
       "    <tr>\n",
       "      <th>2</th>\n",
       "      <td>That’s all.</td>\n",
       "      <td>814</td>\n",
       "      <td>byuuaj</td>\n",
       "      <td>https://i.redd.it/pcmb0gq2dh331.jpg</td>\n",
       "      <td>13</td>\n",
       "      <td>1.560180e+09</td>\n",
       "      <td></td>\n",
       "      <td>2019-06-10 11:20:22</td>\n",
       "    </tr>\n",
       "    <tr>\n",
       "      <th>3</th>\n",
       "      <td>Guess we will be seeing ______ in paradise 😏😏😏</td>\n",
       "      <td>78</td>\n",
       "      <td>byzj2f</td>\n",
       "      <td>https://i.redd.it/rezipml5xj331.jpg</td>\n",
       "      <td>57</td>\n",
       "      <td>1.560211e+09</td>\n",
       "      <td></td>\n",
       "      <td>2019-06-10 19:56:28</td>\n",
       "    </tr>\n",
       "    <tr>\n",
       "      <th>4</th>\n",
       "      <td>Tyler C. is that you?</td>\n",
       "      <td>88</td>\n",
       "      <td>byyjx7</td>\n",
       "      <td>https://i.imgur.com/wtVTZLz.gifv</td>\n",
       "      <td>10</td>\n",
       "      <td>1.560206e+09</td>\n",
       "      <td></td>\n",
       "      <td>2019-06-10 18:32:15</td>\n",
       "    </tr>\n",
       "  </tbody>\n",
       "</table>\n",
       "</div>"
      ],
      "text/plain": [
       "                                            title  score      id  \\\n",
       "0             Megathread Hub - Bachelorette S15E4     34  bwlwh1   \n",
       "1                      Off-topic thread June 7-13     16  bxwc6g   \n",
       "2                                     That’s all.    814  byuuaj   \n",
       "3  Guess we will be seeing ______ in paradise 😏😏😏     78  byzj2f   \n",
       "4                           Tyler C. is that you?     88  byyjx7   \n",
       "\n",
       "                                                 url  comms_num       created  \\\n",
       "0  https://www.reddit.com/r/thebachelor/comments/...         30  1.559662e+09   \n",
       "1  https://www.reddit.com/r/thebachelor/comments/...        273  1.559952e+09   \n",
       "2                https://i.redd.it/pcmb0gq2dh331.jpg         13  1.560180e+09   \n",
       "3                https://i.redd.it/rezipml5xj331.jpg         57  1.560211e+09   \n",
       "4                   https://i.imgur.com/wtVTZLz.gifv         10  1.560206e+09   \n",
       "\n",
       "                                                body           timestamp  \n",
       "0  **Live Discussion Threads:**\\n\\n[East/Central]... 2019-06-04 11:21:45  \n",
       "1  This thread is for any and all of our off-topi... 2019-06-07 20:03:27  \n",
       "2                                                    2019-06-10 11:20:22  \n",
       "3                                                    2019-06-10 19:56:28  \n",
       "4                                                    2019-06-10 18:32:15  "
      ]
     },
     "execution_count": 32,
     "metadata": {},
     "output_type": "execute_result"
    }
   ],
   "source": []
  }
 ],
 "metadata": {
  "kernelspec": {
   "display_name": "Python 3",
   "language": "python",
   "name": "python3"
  },
  "language_info": {
   "codemirror_mode": {
    "name": "ipython",
    "version": 3
   },
   "file_extension": ".py",
   "mimetype": "text/x-python",
   "name": "python",
   "nbconvert_exporter": "python",
   "pygments_lexer": "ipython3",
   "version": "3.7.3"
  }
 },
 "nbformat": 4,
 "nbformat_minor": 2
}
